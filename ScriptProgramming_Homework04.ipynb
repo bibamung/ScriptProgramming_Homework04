{
 "cells": [
  {
   "cell_type": "markdown",
   "metadata": {},
   "source": [
    "# 2018136015_김성원_스크립트 프로그래밍 _04과제"
   ]
  },
  {
   "cell_type": "markdown",
   "metadata": {},
   "source": [
    "1. 다음 문제를 읽고 알맞은 코드를 제시하시오.\n",
    "\n",
    "- 1) 파일 s.txt 내의 다음 내용과 함께 아래 문제의 코드를 제시하시오.\n",
    "\n",
    "        pig ham  \n",
    "        cat dog  \n",
    "        ham bird  \n",
    "        dog pig  \n",
    "  \n"
   ]
  },
  {
   "cell_type": "code",
   "execution_count": 14,
   "metadata": {},
   "outputs": [],
   "source": [
    "import os"
   ]
  },
  {
   "cell_type": "code",
   "execution_count": 15,
   "metadata": {},
   "outputs": [],
   "source": [
    "s_lis = ['pig ham\\n', 'cat dog\\n', 'ham bird\\n', 'dog pig\\n']"
   ]
  },
  {
   "cell_type": "code",
   "execution_count": 16,
   "metadata": {},
   "outputs": [],
   "source": [
    "with open('s.txt', 'w') as f:\n",
    "    for getList in s_lis:\n",
    "        f.write(getList)"
   ]
  },
  {
   "cell_type": "code",
   "execution_count": 17,
   "metadata": {},
   "outputs": [
    {
     "name": "stdout",
     "output_type": "stream",
     "text": [
      "pig ham\n",
      "cat dog\n",
      "ham bird\n",
      "dog pig\n"
     ]
    }
   ],
   "source": [
    "with open('s.txt', 'r') as f:\n",
    "    lst = f.readlines()\n",
    "    for thing in lst:\n",
    "         print(thing, end = '')"
   ]
  },
  {
   "cell_type": "markdown",
   "metadata": {},
   "source": [
    "문제에서 주어진 한 줄을 리스트에 저장하고, 그 리스트에 있는 요소들을 getList로 받아서 's.txt'파일을 생성하여 저장하였다.  \n",
    "이후에 's.txt'파일을 읽기모드로 하여 각 라인을 읽어 출력하였다."
   ]
  },
  {
   "cell_type": "markdown",
   "metadata": {},
   "source": [
    "- 2) 파일 s.txt을 읽어서 각 라인에 있는 첫 번째 단어(문자열) 자체들을 기준으로 라인별 정렬후 파일 s1.txt에 그 결과를 기록하는 코드를 작성하시오. 즉, 프로그램 수행 후 s1.txt에 있는 파일 내용은 다음과 같다.\n",
    "\n",
    "        cat dog  \n",
    "        dog pig  \n",
    "        ham bird  \n",
    "        pig ham  "
   ]
  },
  {
   "cell_type": "code",
   "execution_count": 5,
   "metadata": {},
   "outputs": [],
   "source": [
    "with open('s.txt', 'r') as f:\n",
    "    lst = f.readlines()\n",
    "    s1_lis = []\n",
    "    for thing in lst:\n",
    "        s1_lis.append(thing)\n",
    "    s1_lis.sort()"
   ]
  },
  {
   "cell_type": "code",
   "execution_count": 6,
   "metadata": {},
   "outputs": [],
   "source": [
    "with open('s1.txt', 'w') as f:\n",
    "    for getList in s1_lis:\n",
    "        f.write(getList)"
   ]
  },
  {
   "cell_type": "code",
   "execution_count": 7,
   "metadata": {},
   "outputs": [
    {
     "name": "stdout",
     "output_type": "stream",
     "text": [
      "cat dog\n",
      "dog pig\n",
      "ham bird\n",
      "pig ham\n"
     ]
    }
   ],
   "source": [
    "with open('s1.txt', 'r') as f:\n",
    "    lst = f.readlines()\n",
    "    for thing in lst:\n",
    "        print(thing, end='')"
   ]
  },
  {
   "cell_type": "markdown",
   "metadata": {},
   "source": [
    "'s.txt'파일을 읽어들여 각 문장을 리스트로 저장하였고, 각 문장의 첫번째 단어를 기준으로 오름차순으로 정렬시켜 's1.txt'에 저장하였고 1)과 같이 읽기모드로 's1.txt'을 읽어 출력하였다"
   ]
  },
  {
   "cell_type": "markdown",
   "metadata": {},
   "source": [
    "- 3) 파일 s.txt을 읽어서 각 라인에 있는 두 번째 단어(문자열) 자체들을 기준으로 라인별 정렬후 파일 s2.txt에 그 결과를 기록하는 코드를 작성하시오. 즉, 프로그램 수행 후 s2.txt에 있는 파일 내용은 다음과 같다.\n",
    "\n",
    "        ham bird\n",
    "        cat dog\n",
    "        pig ham\n",
    "        dog pig"
   ]
  },
  {
   "cell_type": "code",
   "execution_count": 18,
   "metadata": {},
   "outputs": [],
   "source": [
    "with open('s.txt', 'r') as f:\n",
    "    lst = f.readlines()\n",
    "    s1_lis = []\n",
    "    for thing in lst:\n",
    "        s1_lis.append(thing)\n",
    "    s1_lis.sort()\n",
    "    s2_lis = s1_lis.copy()\n",
    "    s2_lis.sort(key = lambda x : x[2])\n",
    "    s2_lis.sort(key = lambda x : x[1])"
   ]
  },
  {
   "cell_type": "code",
   "execution_count": 19,
   "metadata": {},
   "outputs": [],
   "source": [
    "with open('s2.txt', 'w') as f:\n",
    "    for getList in s2_lis:\n",
    "        f.write(getList)"
   ]
  },
  {
   "cell_type": "code",
   "execution_count": 20,
   "metadata": {},
   "outputs": [
    {
     "name": "stdout",
     "output_type": "stream",
     "text": [
      "ham bird\n",
      "cat dog\n",
      "pig ham\n",
      "dog pig\n"
     ]
    }
   ],
   "source": [
    "with open('s2.txt', 'r') as f:\n",
    "    lst = f.readlines()\n",
    "    for thing in lst:\n",
    "        print(thing, end='')"
   ]
  },
  {
   "cell_type": "markdown",
   "metadata": {},
   "source": [
    "'s.txt'파일을 읽어들여 각 문장을 리스트로 저장하였고, 각 문장의 두 번째 단어를 기준으로 오름차순으로 정렬시켜 's2.txt'에 저장하였고 ,1)과 같이 읽기모드로 's2.txt'을 읽어 출력하였다"
   ]
  },
  {
   "cell_type": "markdown",
   "metadata": {},
   "source": [
    "- 4) 파일 s.txt을 읽어서 각 라인들에 있는 모든 단어들을 순차적으로 다시 나열하되 각 라인에 세 개의 단어들이 오도록 하여 s3.txt에 기록하는 코드를 작성하시오. 즉, 프로그램 수행 후 s3.txt에 있는 파일 내용은 다음과 같다.\n",
    "\n",
    "        pig ham cat\n",
    "        dog ham bird\n",
    "        dog pig"
   ]
  },
  {
   "cell_type": "code",
   "execution_count": 21,
   "metadata": {},
   "outputs": [],
   "source": [
    "with open('s.txt', 'r') as f:\n",
    "    lst = f.readlines()\n",
    "    s3_lis = []\n",
    "    s4_lis = []\n",
    "    for i in range(len(lst)):\n",
    "            s3_lis.append(lst[i].split())\n",
    "    for i in range(len(s3_lis)):\n",
    "        for j in range(len(s3_lis[0])):\n",
    "            s4_lis.append(s3_lis[i][j])"
   ]
  },
  {
   "cell_type": "code",
   "execution_count": 22,
   "metadata": {},
   "outputs": [],
   "source": [
    "with open('s3.txt', 'w') as f:\n",
    "    for i in range (len(s4_lis)):\n",
    "        f.write(s4_lis[i])\n",
    "        f.write(' ')\n",
    "        if i % 3 == 2:\n",
    "            f.write('\\n')\n",
    "        else: pass"
   ]
  },
  {
   "cell_type": "code",
   "execution_count": 23,
   "metadata": {},
   "outputs": [
    {
     "name": "stdout",
     "output_type": "stream",
     "text": [
      "pig ham cat \n",
      "dog ham bird \n",
      "dog pig "
     ]
    }
   ],
   "source": [
    "with open('s3.txt', 'r') as f:\n",
    "    lst = f.readlines()\n",
    "    for thing in lst:\n",
    "        print(thing, end='')"
   ]
  },
  {
   "cell_type": "markdown",
   "metadata": {},
   "source": [
    "'s.txt'파일을 읽어들여 각 문장을 리스트로 저장하였고, 문장에 있는 단어들을 한 개의 인덱스로 분리하기 위해서 split()을 사용하여 리스트에 저장 한 후, 해당 리스트를 's3.txt'에 저장하였다. 저장할 때 2번째 인덱스의 요소가 저장되면 개행하여 1줄에 3개씩 저장되도록하였다. "
   ]
  },
  {
   "cell_type": "markdown",
   "metadata": {},
   "source": [
    "###  "
   ]
  },
  {
   "cell_type": "markdown",
   "metadata": {},
   "source": [
    "2. 다음과 같은 조건들을 참고하여 회원 가입 및 로그인 프로그램을 작성하시오.\n",
    "    - 1) 프로그램 시작 후 다음과 같은 메시지가 출력되어 1, 2, 3 중 하나의 값을 입력 받도록 한다.  \n",
    "        Welcome to Our Service\n",
    "\n",
    "            A. Sign Up\n",
    "            B. Sign In\n",
    "            C. Quit\n",
    "    - 2) 1을 선택하면 ID, Password, Name, School의 4가지 정보를 입력받아 파일에 저장하는 프로그램을 작성한다.\n",
    "        - 2-1) 입력된 내용은 access.txt 라는 이름의 텍스트 파일 내에 저장된다.\n",
    "        - 2-2) access.txt 파일의 각 라인에는 가입된 회원 각각의 정보가 \"[id]: [password], [name], [school]\" 형태로 저장된다.\n",
    "        - 2-3) 즉, 가입 회원이 10명이면 access.txt 파일 내에 라인 수도 정확히 10개이다.\n",
    "        - 2-4) 암호화 방식은 sha 모듈을 활용한다. sha 모듈 활용 방법은 본 문제의 마지막에 제시된 sha 활용 예를 참고한다.\n",
    "            - 즉, access.txt 파일 내에 password 정보는 암호화 되어 저장되어야 한다.\n",
    "        - 2-5) 회원 정보를 입력 받을 때 id를 입력 받은 직후 access.txt를 확인하여 이미 존재하는 id가 입력되었다면 다음 메시지를 출력하고 id 정보를 다시 입력받는다.\n",
    "            - Sorry, the entered ID is already used.\n",
    "    - 3) 2를 선택하면 ID, Password의 2가지 정보를 입력받는 프로그램을 작성한다.\n",
    "    - 3-1) 입력된 ID 정보가 access.txt에 존재하지 않으면 다음과 같은 메시지를 출력하고 다시 입력받는다.\n",
    "        - Sorry, you are not a registered member.\n",
    "    - 3-2) 입력된 ID가 올바르게 존재하지만 Password 정보가 access.txt 파일에 있는 정보와 불일치하면 다음과 같은 메시지를 출력하고 Password를 다시 입력받는다.\n",
    "        - Sorry, the entered password is not correct.\n",
    "        - 이 때에도 사용자가 입력한 Password 정보와 함께 sha 모듈이 활용되어야 한다.\n",
    "    - 3-3) 입력된 ID와 Password가 모두 올바르면 다음과 같은 메시지를 출력한다.\n",
    "        - Hello [name]!\n",
    "        - 위 [name]에는 access.txt에 기록되어 있는 name 정보를 출력한다.\n",
    "    - 4) 3을 선택하면 프로그램이 끝난다.\n",
    "    - [참고] sha 모듈 활용 예"
   ]
  },
  {
   "cell_type": "code",
   "execution_count": 188,
   "metadata": {},
   "outputs": [],
   "source": [
    "import os\n",
    "def InputID():\n",
    "    ID = input(\"가입할 ID : \")\n",
    "    with open('account_test.txt', 'r') as f:\n",
    "        s_lis = []\n",
    "        cnt = 0\n",
    "        if f.readline()=='':\n",
    "            cnt += 1\n",
    "\n",
    "\n",
    "\n",
    "        lst = f.readlines()\n",
    "        for i in range(len(lst)):\n",
    "            s_lis.append((lst[i].split()))\n",
    "        for i in range(len(s_lis)):\n",
    "            if ID == s_lis[i][0]:\n",
    "                print(\"Sorry, the entered ID is already used.\")\n",
    "                InputID()\n",
    "            else:\n",
    "                pass\n",
    "    return ID"
   ]
  },
  {
   "cell_type": "code",
   "execution_count": 192,
   "metadata": {},
   "outputs": [],
   "source": [
    "def IsAccount(ID, Password):\n",
    "    with open('account_test.txt', 'r') as f:\n",
    "        s_lis = []\n",
    "        lst = f.readlines()\n",
    "        for i in range(len(lst)):\n",
    "            s_lis.append((lst[i].split()))\n",
    "        \n",
    "        for i in range(len(s_lis)):\n",
    "            if ID != s_lis[i][0] and i == len(s_lis) - 1:\n",
    "                print(\"Sorry, you are not a registered member.\")\n",
    "                Re_ID = input(\"아이디를 다시 입력하세요 : \")\n",
    "                PW = input(\"input Password : \")\n",
    "                PW_encrypted = hashlib.sha256(PW.encode()).hexdigest()\n",
    "                IsAccount(Re_ID, PW_encrypted)\n",
    "                \n",
    "            elif ID == s_lis[i][0] and Password == s_lis[i][1]:\n",
    "                print(\"Hello!\", s_lis[i][2])\n",
    "                break\n",
    "            \n",
    "            elif ID == s_lis[i][0] and Password != s_lis[i][1] and i == len(s_lis) - 1:\n",
    "                print(\"Sorry, the entered password is not correct.\")\n",
    "                Re_PW = input(\"비밀번호를 다시 입력하세요 : \")\n",
    "                Re_PW_encrypted = hashlib.sha256(Re_PW.encode()).hexdigest()\n",
    "                IsAccount(ID, Re_PW_encrypted)"
   ]
  },
  {
   "cell_type": "code",
   "execution_count": 193,
   "metadata": {},
   "outputs": [],
   "source": [
    "import hashlib\n",
    "def AccountProgram():\n",
    "#     ID = str()\n",
    "#     Password  = str()\n",
    "#     name  = str()\n",
    "#     school  = str()\n",
    "    while (1):\n",
    "        select = int(input(\"번호를 입력하시오\"))\n",
    "        if select == 1:   #사용자가 가입한 후에 파일에 저장\n",
    "            ID = InputID()                       \n",
    "            Password  = input(\"가입할 Password : \")\n",
    "            Password_encrypted = hashlib.sha256(pw.encode()).hexdigest()\n",
    "            Name  = input(\"가입할 Name : \")\n",
    "            School  = input(\"가입할 School : \")\n",
    "            with open('account_test.txt', 'a+') as f:\n",
    "                if os.stat(\"account_test.txt\").st_size != 0:   #파일이 비어있는 상태가 아니라면 개행시켜준다.\n",
    "                    f.write(\"\\n\")\n",
    "                f.write(ID + \" \")\n",
    "                f.write(Password_encrypted + \" \")\n",
    "                f.write(Name + \" \")\n",
    "                f.write(School)\n",
    "        elif select == 2:\n",
    "            ID = input(\"input ID : \")\n",
    "            Password  = input(\"input Password : \")\n",
    "            Password_encrypted = hashlib.sha256(Password.encode()).hexdigest()\n",
    "            IsAccount(ID,Password_encrypted)\n",
    "        elif select == 3:\n",
    "            break\n",
    "        else : print(\"잘못 입력하셨습니다.\")"
   ]
  },
  {
   "cell_type": "code",
   "execution_count": 191,
   "metadata": {},
   "outputs": [
    {
     "name": "stdout",
     "output_type": "stream",
     "text": [
      "번호를 입력하시오2\n",
      "input ID : worni5015\n",
      "input Password : 1234\n",
      "Hello! 김성원\n",
      "번호를 입력하시오2\n",
      "input ID : worni5015\n",
      "input Password : 2\n",
      "Sorry, the entered password is not correct.\n",
      "비밀번호를 다시 입력하세요 : 1234\n",
      "Hello! 김성원\n",
      "번호를 입력하시오3\n"
     ]
    }
   ],
   "source": [
    "AccountProgram()"
   ]
  },
  {
   "cell_type": "markdown",
   "metadata": {},
   "source": [
    "AccountProgram()함수에서 사용자가 1,2,3중 하나의 번호를 누르면 회원가입,로그인, 종료를 수행할수 있도록 조건문을 만들어 주었다.\n",
    "\n",
    "사용자가 만약 1을 누르고 아이디와 비밀번호, 이름, 학교를 적게되면 'account_test'에 내용들을 추가해주었고, 비밀번호는 암호화 하여 추가시켰다. 만약 이미 사용자가 적은 정보 이외에 정보가 있다면 개행하여 내용을 추가시켜주었다. 그리고 InputID()를 통해 사용자가 적은 아이디가 이미 있다면 \"Sorry, the entered ID is already used.\"문구를 출력함과 동시에 재귀호출로 사용자가 다시 아이디를 적을수 있게 하는 함수를 구현하였다.\n",
    "\n",
    "사용자가 2를 누르고 아이디와 비밀번호를 적으면 IsAccount(ID, Password)함수를 통해 사용자가 입력한 정보와 동일한 아이디와 비밀번호가 있는지 확인하고 만약 동일한 계정이 있을경우 \"Hello [name]!\"을 출력하고, 파일을 열어 검사가 완료될때까지 해당 아이디가 없다면 \"Sorry, you are not a registered member.\"를 출력한 후, 사용자로부터 다시 아이디를 입력받아 새로운 아이디를 재귀호출로 통해 검사하도록 하였다. 그리고 아이디가 맞았지만 비밀번호가 틀렸을 경우 \"Sorry, the entered password is not correct.\"를 출력하고 사용자로부터 다시 비밀번호를 입력받아 재귀호출하여 다시 검사하도록 하였다.\n",
    "\n",
    "사용자가 3을 누르면 함수가 종료될수있도록 하였다."
   ]
  },
  {
   "cell_type": "markdown",
   "metadata": {},
   "source": [
    "### "
   ]
  },
  {
   "cell_type": "markdown",
   "metadata": {},
   "source": [
    "3. range() 함수와 유사한 frange() 함수를 다음 조건을 참고하여 만드시오.\n",
    "\n",
    "- 1) frange()의 인자 구성은 다음과 같이 range와 동일하지만 각 인수들은 음수를 받지 않는다고 가정한다.\n",
    "            range(stop)\n",
    "            range(start, stop[, step])\n",
    "\n",
    "- 2) frange() 함수의 인자에 대한 기본 시작(start) 값은 0.0이고, 기본 단계(step) 값은 0.1이다.\n",
    "- 3) frange 사용 예\n",
    "    - 3-1) frange(0.5)\n",
    "        - [0.0, 0.1, 0.2, 0.3, 0.4]\n",
    "    - 3-2) frange(1.0, 2.0)\n",
    "        - [1.0, 1.1, 1.2, 1.3, 1.4, 1.5, 1.6, 1.7, 1.8, 1.9]\n",
    "    - 3-3) frange(2.2, 4.0, 0.5)\n",
    "        - [2.2, 2.7, 3.2, 3.7]"
   ]
  },
  {
   "cell_type": "code",
   "execution_count": 47,
   "metadata": {},
   "outputs": [],
   "source": [
    "def frange(start,stop = -1, step = 0.1):\n",
    "    if stop == -1: # frange(stop)\n",
    "        stop = start\n",
    "        start = 0\n",
    "        \n",
    "    if (step >= 0 and start>=stop) or (step<=0 and start<=end):\n",
    "        print('frange error')\n",
    "        \n",
    "    else:\n",
    "        x = []\n",
    "        while True:\n",
    "            x.append(round(start,1))\n",
    "            if step>0:\n",
    "                start += step\n",
    "                if start >= stop:\n",
    "                    break\n",
    "            else:\n",
    "                start += step\n",
    "                if start <= stop:\n",
    "                    break\n",
    "        print(x)"
   ]
  },
  {
   "cell_type": "code",
   "execution_count": 49,
   "metadata": {},
   "outputs": [
    {
     "name": "stdout",
     "output_type": "stream",
     "text": [
      "[1.0, 1.1, 1.2, 1.3, 1.4, 1.5, 1.6, 1.7, 1.8, 1.9]\n"
     ]
    }
   ],
   "source": [
    "frange(1.0, 2.0)"
   ]
  },
  {
   "cell_type": "markdown",
   "metadata": {},
   "source": [
    "만약 frange()에서 사용자가 한개의 인자만 받는다면 stop에 start가 받은 인자를 저장한 후 start에 0 을 저장하여 시작지점을 0으로 초기화 시킨다. 그리고 step에 대한 인자를 사용자가 받지 않는다면, 기본인자인 0.1을 자동적으로 입력받는다. 이후에 리스트x에 step만큼 더한 값을 저장하고 출력하여 함수를 구현하였다."
   ]
  },
  {
   "cell_type": "markdown",
   "metadata": {},
   "source": [
    "### "
   ]
  },
  {
   "cell_type": "markdown",
   "metadata": {},
   "source": [
    "4. 가변인수를 받는 함수 sum()을 다음과 같은 조건을 참고하여 구현하시오\n",
    "- sum() 사용 예  \n",
    "        sum()\n",
    "        0\n",
    "\n",
    "        sum(1, 2)\n",
    "        3\n",
    "\n",
    "        sum(1, 2, 3, 4, 5)\n",
    "        15\n",
    "\n",
    "        sum(1, 5, 7, 2, -10)\n",
    "        5"
   ]
  },
  {
   "cell_type": "code",
   "execution_count": 16,
   "metadata": {},
   "outputs": [],
   "source": [
    "def sum(*arg):\n",
    "    result = 0\n",
    "    for i in range(len(arg)):\n",
    "        result += arg[i]\n",
    "    return result"
   ]
  },
  {
   "cell_type": "code",
   "execution_count": 19,
   "metadata": {},
   "outputs": [
    {
     "data": {
      "text/plain": [
       "15"
      ]
     },
     "execution_count": 19,
     "metadata": {},
     "output_type": "execute_result"
    }
   ],
   "source": [
    "sum(1, 2, 3, 4, 5)"
   ]
  },
  {
   "cell_type": "code",
   "execution_count": 20,
   "metadata": {},
   "outputs": [
    {
     "data": {
      "text/plain": [
       "5"
      ]
     },
     "execution_count": 20,
     "metadata": {},
     "output_type": "execute_result"
    }
   ],
   "source": [
    "sum(1, 5, 7, 2, -10)"
   ]
  },
  {
   "cell_type": "markdown",
   "metadata": {},
   "source": [
    "가변인수는 튜플로 저장되기 때문에 튜플의 인덱스를 활용하여 각 요소들을 result와 더하여 저장하였다."
   ]
  },
  {
   "cell_type": "markdown",
   "metadata": {},
   "source": [
    "### "
   ]
  },
  {
   "cell_type": "markdown",
   "metadata": {},
   "source": [
    "5.여러 단어로 이루어진 문자열을 입력받아 각 단어의 첫글자로 이루어진 단어를 대문자로 출력하는 myinitial() 함수를 다음 조건을 참고하여 작성하시오.\n",
    "\n",
    "- 1) 다음에 제시되는 함수들을 모두 이용해야 한다.\n",
    "\n",
    "    - split\n",
    "    - map\n",
    "    - join\n",
    "- 2) myinitial() 함수 사용 예\n",
    "\n",
    "    - myinitial(\"as soon as possible\")\n",
    "        - ASAP"
   ]
  },
  {
   "cell_type": "code",
   "execution_count": 24,
   "metadata": {},
   "outputs": [],
   "source": [
    "import string\n",
    "def myinitial(s_str):\n",
    "    lst = []\n",
    "    lst = s_str.split()\n",
    "    lst2 = list(map(lambda x:x.upper(),lst))\n",
    "    for i in range(len(lst2)):\n",
    "        lst3 = \"\".join(lst2[i][0])\n",
    "        print(lst3, end='')"
   ]
  },
  {
   "cell_type": "code",
   "execution_count": 25,
   "metadata": {},
   "outputs": [
    {
     "name": "stdout",
     "output_type": "stream",
     "text": [
      "['AS', 'SOON', 'AS', 'POSSIBLE']\n",
      "ASAP"
     ]
    }
   ],
   "source": [
    "myinitial(\"as soon as possible\")"
   ]
  },
  {
   "cell_type": "markdown",
   "metadata": {},
   "source": [
    "입력받은 문자열을 먼저 분리시켜 리스트에 저장하였고, map을 활용하여 각 요소들을 대문자로 바꾸고, join을 활용하여 해당 요소의 첫번째 단어를 띄어쓰기 없이 출력하였다."
   ]
  },
  {
   "cell_type": "markdown",
   "metadata": {},
   "source": [
    "### "
   ]
  },
  {
   "cell_type": "markdown",
   "metadata": {},
   "source": [
    "6. 음이 아닌 정수 n를 입력받으면 n! (factorial)을 계산하는 myfact() 함수를 재귀적 함수로 구현하시오.\n",
    "    - [옵션] 참을 수 있는 정도 만큼의 수행시간을 직접 기다려보면서 n을 늘려보도록 합시다."
   ]
  },
  {
   "cell_type": "code",
   "execution_count": 29,
   "metadata": {},
   "outputs": [],
   "source": [
    "def myfact(n):\n",
    "    if n < 0:\n",
    "        print(\"잘못 입력하셨습니다.\")\n",
    "        return\n",
    "    elif n == 0:\n",
    "        return 0\n",
    "    elif n == 1:      # n이 1일 때\n",
    "        return 1      # 1을 반환하고 재귀호출을 끝냄\n",
    "    return n * myfact(n - 1)    # n과 factorial 함수에 n - 1을 넣어서 반환된 값을 곱함"
   ]
  },
  {
   "cell_type": "code",
   "execution_count": 226,
   "metadata": {},
   "outputs": [
    {
     "data": {
      "text/plain": [
       "505952377564956574235399487483041822888119906495646428420108128343971780124357271627183187181901985489257810723352466337235751018907859251483748076712221335242456072511956620861657068464658696977275319548308128323491783917474904823913336186702557231203052281424187828395416859857650094981705373496768015046695461677805249020166776518284295970082765903694461122649954549098532765643831376261157499518461143563135097922059297592457480472528808956521277781996009697748813767752317901993583593064711390389256539592213382336750436174727185984611760421291141324911097267225552199730476774453050697842602214070935344031411264401893900574346899099074352438646458875367356096148179163702062404569627599604398082394992936879385517649368601293248572380303208752748532898279993016519568119152122997226350756743992971418437596814731963479245017081663815882070810350128181274021195041969125382972166350502231430456320751213523019414063808516433867248249458204960649567320833484525228075044368117053546317603246367348305223651166741619208572954894754963564906549900945718620560144664619176792361928902055495486766678111048939613458737412922392294514406609754352193128612689646312984389391384542004936977915717862835284618842815353884331578173485518049245163406721754394757532153630949794490352956706658643356384827761671051127033493861835851858266803047303528721645085359830071308178059987895159485448770011421607061291723072538712061663843713634472913489277136293532711346437784150028750732691015545860917019871467854175069186555128848527975507743980014621065347175998899503889555524246048425283036762865132185738163019720604486888790649229080920897997356932714808171903128984446953736128013641915138607295668586443278128585861795381105865300374543687713038363463734625326242378569900174429119032387561641410316557859320181006422069507062358883630822542555165462364329302020473271497387715792071820765665790638352153555764538517631260623412723313093124092432789491632554073948827390735545716441923238289865340885387413615546454862536340143133279001626002846851251985749608403099376032761637880189487407395316371555518384151347805569454991207771447814049085283309396973938146616587548492080685353361421300685402925961961594457843812808323627052444494531230842541527876374091449199498505040454348872835833672606472991662324687936591415102700920099451882798533790160819905229463966579386064091196159794033606595148486318974279886252625281882417946278062935437494064201030712069959884123056091383908894582389150116181563280017248260639726389219082618229436407923655677520787696484231955335749934869835829529232873565123341894383043689415677290245298872397296236062684486528804501714047715809281111825145284594085527682612469161079097724306324717717370616852498132614961555068777564065642212901785044040759229586430531033571738833642484102909150553156027449172810226051647526127119143506842908589132811939877335365609394825488767298324967689803294237085972150685775692210531284369176050389712589027201065029068982183877762434780175410176411293776022903071007023268833118929966361919876102344186026867789948320263121167877330315760562199392980017581153413893390806854924128901636586801254240778519544856193062608281831069246248690202744846293153414312300720120488144461290066803974638049281133970882034227745035365268761916176529984894968882158839745651008741895339444483102420184236636656503952076535669164343850080510907764043670290796001080548105515761735330566670042746571098546589282620109426209884181482355186402707898206641430425001620671967112727455983421839234154954288153498865505042532193748772902749650088676740366711134605696859906919405304391865790833479216987711960824939008151644804857062230211669069733854091647246315171830638665160173141295848165892546880585459436607927176474071620899667956618334059746950873938562409188599241938567067170692849335683578966128411131236518266361726453493044283429562907397961739920262899101091557097458225429801892281994203718754852487125577824395869704288849547013579105355501910384793072992984186683937908935816601954766367685950245149761678601855600240560451474616640462771914114328102885542174972636486024811157948367110693824340795404853680662792040710852726375081527919472495980882595698444686925765216736741417065761432093611761958622217033877441500445781888826033981568474678352598856427653847134498181718363645160970117611198237806641968770399090817865908899097634156897883286063770636278923699777992330368066454906593057270525484589748275601744312937497807614063496206864488956347571208678713857351251986907901301155119653872991190512442242526972487566285913946822301636688681655324235085482760023655672140754322321687858963519125110309264260832864639362761076410076399273686859052245563539008740456478742972074915912598042429112715276797080483484822698765501490430410978494396869083392852410845191024762745118937835484291069818760572045299004832186854889093147675598707363973119450033863038330685809160394058978787332058962616408131153575731817837715853975139168133864169744811491217996493870236325772162182489527457900879728203741482655364355939821462687169262142215976857618362012820567379046490311453885812795002452094207230799870176163322437919683639287666135370401815833833114157811898800783684850036382330136730920295573939818328117306643485779261792831821615739553610107679284541695364939657683746178542760118788613838308936469819427291942011685629577480903614801233083214880029478804996040922186274075836756880804024306078751473402908273251646747992644309725929690164954923031579740513944424076760724123662993821684545937599720064648741572624012685336283652494850265165491710714116374718489034729818280389918959040385125552773949761595076511255097735742149514700239890510147693892465104050405925290340225256290247354872111938446371065651977972020396615781202590783439160203919245603491084569341628299982296116764683113780777390921400474959343950454243439772316470197613709313374203286255015141696789916941932106840344433822594804423071598055281167282171780011466022383650523904986419378845041609455851735293524289387419978210692206302846111773391488175884121102570766897002872703145900033371681393798014544425397255200765468172768570535980920261758464497062501938150472688373769489767558588943257503967378934038491593905386896680129514085292610357934575551496717705414023438716150545440995752904251918923448418223156270058694405255050170867464300372799423619454006883636624680995003769658469030613696236936432069590913382591773157686138328499407784406427308805760759216414925733287713963049493696399382385752236778315567618527900838466462251053761666931318703304661654026328368628876754259925621774699287851246861910845584625608916871935351626827663388730660445798602673640720613960683859065468530587682219591775317089012936269062742766542323135936800322925330833758684418563126325826007396617007834217576725275993610108562544798619626536400277088314201459204383823376559943634430809754806647054466439571225841739621532058941853482752809345093162308901404855233474085243121022418317848999217370129424792306080763705958365013033311530366136930553424436332618971344403186596683093976160965358502597713321038168748925230956815570105995634684054037999913797591638272704582788809169713089976586905012505250924187891686723238511522302073579758158912744029159463165911781806567781258042549923403774721567302720941897494341666584621373121753575105984289757730937867014241826012173778451101146637465044455471909853246060847358204554009205055968763184964159539920129319487624308928830155282689112619749820454152892727555967564143362354220295682215993530992721667609801435444589589598847755289197930460551226323858814103011419655108254159920621031411833690169900373926961071064012696440626630653113890239678769466209364900318934579927782472728196734195503919675356415269316704586534036749990612630025583699768295835742208376937327058309669264558472243712025144898820706116786736088328767049707940907607077728112791287799898737446268042773013232285623381907584849757921426968276132505010829220774454431445160714392448234608332463967141786186867411318473367495692266264774383213263461870491802448140275996364999495942699301677345564954135247466914996254290661281441421798303037648923046578424982193421649853808640000000000000000000000000000000000000000000000000000000000000000000000000000000000000000000000000000000000000000000000000000000000000000000000000000000000000000000000000000000000000000000000000000000000000000000000000000000000000000000000000000000000000000000000000000000000000000000000000000000000000000000000000000000000000000000000000000000000000000000000000000000000000000000000000000000000000000000000000000000000000000000000000000000000000000000000000000000000000000000000000000000000000000000000000000000000000000000000000000000000000000000000000000000000000000000000000000000000000000000000000000000000000000000000000000000000000000000000000000000000000000000000000000000000000000000000000000000000000000000000000000000000000000"
      ]
     },
     "execution_count": 226,
     "metadata": {},
     "output_type": "execute_result"
    }
   ],
   "source": [
    "myfact(2958)"
   ]
  },
  {
   "cell_type": "markdown",
   "metadata": {},
   "source": [
    "사용자가 음수를 입력하면 \"잘못 입력하셨습니다.\"라는 문구를 출력하고, 0을 입력하면 0을 1을 입력하면 1을 반환시켰고, 위에 조건문에 해당되지 않으면 함수를 다시 호출하여 계산하여 반환되도록 하였다."
   ]
  },
  {
   "cell_type": "markdown",
   "metadata": {},
   "source": [
    "### "
   ]
  },
  {
   "cell_type": "markdown",
   "metadata": {},
   "source": [
    "7. (서술형) import string 과 from string import * 의 차이점을 설명하시오."
   ]
  },
  {
   "cell_type": "markdown",
   "metadata": {},
   "source": [
    "    답: import string을 사용하면 string모듈 안의 함수를 사용할 때, \"string.함수명()\"과 같은 형식으로 사용해야하지만, \n",
    "        from string import* 을 사용하면 함수명 앞에 'string.'을 사용하지 않고 바로 함수명()으로 사용할 수 있다."
   ]
  },
  {
   "cell_type": "markdown",
   "metadata": {},
   "source": [
    "## [Incremental Project 문제]\n",
    "\n",
    "#### 이전 Assignment 3의 마지막 문제는 웹 URL로 지정된 웹페이지를 문자열로 가져와 모든 HTML 태그 및 CSS와 Javascript를 제외한 순수 텍스트를 얻어내고 그 안에 존재하는 단어를 추출하여 각 단어들에 대해 출현빈도를 사전형태({'world': 2, 'hello': 1, 'python': 1})로 저장하여 출력하는 것이었다. 이번에는 Assignment 3를 확장하여 다음과 같은 조건을 만족하도록 구현하시오.  \n",
    "- 1) 다음 사이트에서 제시되는 불용어 (Stop words)를 참고하여 이전 숙제에서 구성했던 단어 사전에서 불용어들을 모두 제거하는 코드를 추가하시오.\n",
    "    - 영어 불용어: http://www.lextek.com/manuals/onix/stopwords1.html\n",
    "    - 한글 불용어: https://raw.githubusercontent.com/stopwords-iso/stopwords-ko/master/stopwords-ko.txt\n",
    "- 2) 각 URL로 지정된 웹페이지의 HTML 소스를 파일로 저장하시오.\n",
    "    - URL이 http://URL 이라면 파일명은 URL.html 이다.\n",
    "        - 예: URL이 http://www.cnn.com 이라면 파일명은 www.cnn.com.html 이다.\n",
    "- 3) 단어의 출현빈도가 담긴 사전 객체를 위 HTML 소스 파일과 동일한 폴더에 파일로 저장하시오.\n",
    "    - 파일입출력 (E-learning 13주차) 마지막에 학습한 pickle 모듈을 활용하시오.\n",
    "    - URL이 http://URL 이라면 사전 객체를 담고 있는 파일명은 URL.words_frequency.pickle 이다.\n",
    "        - 예: URL이 http://www.cnn.com 이라면 파일명은 www.cnn.com.words_frequency.pickle 이다.\n",
    "- 4) 최소 5개 이상의 웹 사이트 각각에 대한 HTML 소스 파일과 단어 출현빈도 파일을 저장하시오.\n",
    "    - 즉, 5개의 웹 사이트에 대해 총 10개의 파일을 동일한 폴더에 생성하시오.\n",
    "    - [주의] 가능하면 웹사이트에 단어들이 많고 다루는 주제가 서로 다른 웹 사이트들로 선정하는 것 추천\n",
    "- 5) 위 문제에서 저장한 모든 pickle 파일들을 객체로 다시 로드하여 본인이 저장하여 분석한 사이트들 각각에 대해서 가장 많이 출현한 단어 3개씩를 뽑아 제시하시오.\n",
    "    - 반드시 pickle 모듈로 저장한 5개 이상의 pickle 파일들을 다시 5개 이상의 사전 객체로 로드 하는 코드가 추가되어야 함\n",
    "- 6) 간단한 검색엔진 코딩 (Like Google!!!)\n",
    "    - 사용자에게 임의의 검색어 (하나 또는 여러 단어로 구성) 를 입력받으시오.\n",
    "        - 예:\n",
    "            - 대한민국\n",
    "            - 컴퓨터 공학\n",
    "            - 맛있는 음식\n",
    "            - 파이썬\n",
    "            - 한기대 장점\n",
    "- 입력받은 검색어들에 대해서도 1)에서 제시하는 방법처럼 불용어 처리를 하여 정리\n",
    "- 입력 받은 검색어와 유사도(Similarity)가 높은 웹 사이트 기준으로 위 4)에서 미리 지정해 놓은 5개 이상의 웹 사이트 URL들을 일렬로 나열하여 출력하시오.\n",
    "    - 검색어와 웹 사이트 간의 유사도는 본인이 스스로 정하시오.\n",
    "    - 유사도를 정하는 최소한의 기준은 단어 출현 빈도를 기반으로 해야 하며, 이외의 본인이 생각하는 방안이 있으면 함께 사용해도 됨.\n",
    "    - 유사도가 높은 웹 사이트가 상위에 출력되어야 함 (즉, 유사도 기준 내림 차순)\n",
    "    - 유사도가 동일한 웹 사이트들에 대해서는 임의 배치함.\n",
    "- 7) [주의] 필수사항\n",
    "    - 위에서 만든 검색엔진 코딩은 매우 간단한 것이라 부족한 점이 많이 존재한다.\n",
    "    - 본인이 생각하기에 상업적인 완성도 높은 검색 로봇/엔진이 되려면 어떤 기능들이 추가적으로 구현되어야 할지 최소 1가지 이상 제시하시오."
   ]
  },
  {
   "cell_type": "code",
   "execution_count": 130,
   "metadata": {},
   "outputs": [],
   "source": [
    "import requests\n",
    "\n",
    "my_url = ['www.koreatech.ac.kr', 'portal.koreatech.ac.kr','www.amazon.com','www.acmicpc.net','lostark.game.onstove.com']\n",
    "\n",
    "req = requests.get('https://lostark.game.onstove.com/')\n",
    "\n",
    "source = req.text"
   ]
  },
  {
   "cell_type": "code",
   "execution_count": 131,
   "metadata": {},
   "outputs": [],
   "source": [
    "def make_pickle(n_dir):\n",
    "    with open('lostark.game.onstove.com.words_frequency.pickle', 'wb') as f:\n",
    "        pickle.dump(n_dir, f)\n",
    "        f.close()"
   ]
  },
  {
   "cell_type": "code",
   "execution_count": 132,
   "metadata": {},
   "outputs": [],
   "source": [
    "import string\n",
    "import pickle\n",
    "\n",
    "\n",
    "def StringSearch():\n",
    "    i = 0\n",
    "    new1_list=[]\n",
    "    while i < len(source):\n",
    "        if source[i] == '>':\n",
    "            for j in range(i+1,len(source)):\n",
    "            \n",
    "                if source[j] == '<':\n",
    "                    new1_list.append(source[i+1:j])\n",
    "                    i = j+1;\n",
    "                    break\n",
    "        i += 1\n",
    "        \n",
    "        \n",
    "    new2_list=[]\n",
    "    for i in range(len(new1_list)):\n",
    "        if \"\\n\" not in new1_list[i]:\n",
    "             new2_list.append(new1_list[i])\n",
    "                \n",
    "    new3_list=[]\n",
    "    for i in range(len(new2_list)):\n",
    "        new3_list += new2_list[i].split()\n",
    "    \n",
    "    new4_list=[] #구두문자가 제거된 상태의 문자를 저장하는 리스트\n",
    "    for i in range(len(new3_list)):\n",
    "        new3_list[i] = new3_list[i].translate(str.maketrans('', '', string.punctuation))\n",
    "        if new3_list[i] != '':\n",
    "            new4_list.append(new3_list[i])\n",
    "            \n",
    "            \n",
    "    new4_list = ENG_lower(new4_list)\n",
    "    #print(new4_list)\n",
    "    NO_K_list = Del_K_BOOL(new4_list)\n",
    "    new5_list = Del_E_BOOL(NO_K_list)\n",
    "    \n",
    "    new_dic={} #\n",
    "    for i in range(len(new5_list)):\n",
    "        cnt = 1\n",
    "        for j in range(i+1, len(new5_list)):\n",
    "            if new5_list[i] == '':\n",
    "                break\n",
    "            if new5_list[i] ==  new5_list[j]:\n",
    "                cnt += 1\n",
    "                new5_list[j] = ''\n",
    "            new_dic[new5_list[i]] = cnt\n",
    "    \n",
    "    print(new_dic)\n",
    "    make_pickle(new_dic)\n",
    "    "
   ]
  },
  {
   "cell_type": "code",
   "execution_count": 133,
   "metadata": {},
   "outputs": [],
   "source": [
    "def Del_K_BOOL(new4_list):\n",
    "    s1_lis = []\n",
    "    with open('Korea_no_word.txt', 'rt',encoding ='UTF8') as f:\n",
    "        s_lis = []\n",
    "        sss_lis = []\n",
    "        lst = f.readlines()\n",
    "        for i in range(len(lst)):\n",
    "            s_lis.append((lst[i].split()))\n",
    "        for i in range(len(s_lis)):\n",
    "            sss_lis.append(s_lis[i][0])\n",
    "        for i in range(len(new4_list)):\n",
    "            if new4_list[i] in sss_lis:\n",
    "                  pass\n",
    "            else : s1_lis.append(new4_list[i])\n",
    "        f.close()\n",
    "    return s1_lis"
   ]
  },
  {
   "cell_type": "code",
   "execution_count": 134,
   "metadata": {},
   "outputs": [],
   "source": [
    "def Del_E_BOOL(new4_list):\n",
    "    s1_lis = []\n",
    "    with open('stop_words_english.txt', 'rt',encoding ='UTF8') as f:\n",
    "        s_lis = []\n",
    "        sss_lis = []\n",
    "        lst = f.readlines()\n",
    "        for i in range(len(lst)):\n",
    "            s_lis.append(lst[i].split())\n",
    "        for i in range(len(s_lis)):\n",
    "            sss_lis.append(s_lis[i][0])\n",
    "        for i in range(len(new4_list)):\n",
    "            if new4_list[i] in sss_lis:\n",
    "                  pass\n",
    "            else : s1_lis.append(new4_list[i])\n",
    "        \n",
    "        f.close()\n",
    "    return s1_lis"
   ]
  },
  {
   "cell_type": "code",
   "execution_count": 135,
   "metadata": {},
   "outputs": [],
   "source": [
    "def ENG_lower(new4_list):\n",
    "    lst = []\n",
    "    for i in range(len(new4_list)):\n",
    "        lst.append(new4_list[i].lower())\n",
    "    return lst"
   ]
  },
  {
   "cell_type": "code",
   "execution_count": 136,
   "metadata": {
    "scrolled": true
   },
   "outputs": [
    {
     "name": "stdout",
     "output_type": "stream",
     "text": [
      "{'로스트아크': 8, 'lost': 1, 'ark': 1, '3주년': 7, '기념': 5, '축제': 2, 'locationhref': 1, 'browserupgrade': 1, '홈페이지': 1, '바로가기': 1, '페이스북': 1, '트위터': 1, '카카오톡': 1, '게임시작': 1, '오늘': 1, '하루동안': 1, '보지': 1, '이벤트': 4, '리스트': 1, '토글': 1, 'loa': 2, 'winter': 2, '사전': 1, '신청': 1, '다양한': 1, 'amp': 1, '풍성한': 1, '혜택': 1, '2021': 1, '추억이': 1, '담긴': 1, '특별한': 1, '아바타탈것펫': 1, '함께한': 1, '패키지': 1, '모험가님과': 1, '함께하는': 1, '추억여행': 1, '꿈꾸는': 1, '추억의': 1, '섬': 1, '세': 1, '번째': 1, '생일': 1, '축하해': 1, '추억을': 1, '담은': 1, '폴라로이드': 1, '귀염뽀짝': 1, '모코코': 1, '머리띠': 1, '등장': 2, '출석': 1, '무시무시한': 1, '다이뇽': 1, '아바타': 1, '출현': 1, '도전': 1, '출근왕': 1, '달콤한': 1, '주말을': 1, '즐겨보세요': 1, 'hot': 1, 'time': 1, '한정': 1, '굿즈': 1, '모험가님의': 1, '사랑을': 1, '담아': 1, '사랑의': 1, '기부금': 1, '전달': 1, '오뚜기': 1, '게이머즈컵': 1, '소서리스': 1, '스마일게이트': 1, '정보': 1, '그룹사': 1, '로고': 1, '회사소개': 1, '이용약관': 1, '개인정보처리방침': 1, '운영정책': 1, '이벤트ampugc규약': 1, '청소년보호정책': 1, '게임이용등급': 1, '고객센터': 1, '제휴문의': 1, '회사명': 1, '㈜스마일게이트': 1, '알피지': 1, '대표이사': 1, '지원길': 1, '사업자등록번호': 1, '2208829249': 1, '통신판매업': 1, '신고번호': 1, '제2017성남분당0904호': 1}\n"
     ]
    }
   ],
   "source": [
    "StringSearch()"
   ]
  },
  {
   "cell_type": "markdown",
   "metadata": {},
   "source": [
    "지난 과제에서 처음에 new1_list를 구할때 2중 for문이 아닌 while문을 사용하여 i가 검사한 지점까지는 다시 검사하지 않도록하여 시간을 절약하였다.\n",
    "\n",
    "Del_K_BOOL(new4_list),Del_E_BOOL(new4_list)함수를 구현하여 한국어와 영어에 대한 불용어가 들어있는 파일을 읽어 파일에 있는 요소와 비교하여  new4_list에 불용어가 있다면 제거해주었다.\n",
    "\n",
    "영어 불용어 파일에 있는 단어들은 소문자로만 이루어져있어, 대문자가 섞여있을 경우 아스키코드가 달라 걸러지지 않으므로 ENG_lower(new4_list)함수를 사용하여 new4_list에 있는 단어들을 모두 소문자로 바꾸어 주었다.\n",
    "\n",
    "불용어를 모두 제거해준다음에 make_pickle(n_dir)함수를 사용하여 URL.words_frequency.pickle파일에 단어를 뽑아놓은 딕셔너리 객체를 저장하도록 하였다.\n",
    "\n",
    "7)에 대한 의견 :  \n",
    "상업적으로 완성도 높은 건색 로봇을 만들기 위해서는 시간복잡도를 고려하여 먼저 빠르게 사용자가 원하는 단어를 가지고 검색할수 있도록 해야할 것 같습니다."
   ]
  },
  {
   "cell_type": "markdown",
   "metadata": {},
   "source": [
    "###  "
   ]
  },
  {
   "cell_type": "markdown",
   "metadata": {},
   "source": [
    "## 소감\n",
    "\n",
    "이번 과제는 frange와 Incremental Project 문제를 제외하고는 어려운점이 많지는 않았습니다. 이번과제를 통해 파일 입출력에 대한 내용을 배우고 파일을 활용하는 법을 배울수 있었습니다."
   ]
  },
  {
   "cell_type": "code",
   "execution_count": null,
   "metadata": {},
   "outputs": [],
   "source": []
  }
 ],
 "metadata": {
  "kernelspec": {
   "display_name": "Python 3",
   "language": "python",
   "name": "python3"
  },
  "language_info": {
   "codemirror_mode": {
    "name": "ipython",
    "version": 3
   },
   "file_extension": ".py",
   "mimetype": "text/x-python",
   "name": "python",
   "nbconvert_exporter": "python",
   "pygments_lexer": "ipython3",
   "version": "3.8.8"
  }
 },
 "nbformat": 4,
 "nbformat_minor": 2
}
